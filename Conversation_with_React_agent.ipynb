{
  "nbformat": 4,
  "nbformat_minor": 0,
  "metadata": {
    "colab": {
      "provenance": [],
      "authorship_tag": "ABX9TyNudq4tzE5QErYrUDv0Bn+b",
      "include_colab_link": true
    },
    "kernelspec": {
      "name": "python3",
      "display_name": "Python 3"
    },
    "language_info": {
      "name": "python"
    }
  },
  "cells": [
    {
      "cell_type": "markdown",
      "metadata": {
        "id": "view-in-github",
        "colab_type": "text"
      },
      "source": [
        "<a href=\"https://colab.research.google.com/github/GenAIUnplugged/langGraph_series/blob/main/Conversation_with_React_agent.ipynb\" target=\"_parent\"><img src=\"https://colab.research.google.com/assets/colab-badge.svg\" alt=\"Open In Colab\"/></a>"
      ]
    },
    {
      "cell_type": "code",
      "execution_count": 1,
      "metadata": {
        "colab": {
          "base_uri": "https://localhost:8080/"
        },
        "id": "MlWPIP1mbkDx",
        "outputId": "5cc8064a-61de-4a2a-c467-2b903e512707"
      },
      "outputs": [
        {
          "output_type": "stream",
          "name": "stdout",
          "text": [
            "Requirement already satisfied: langchain in /usr/local/lib/python3.11/dist-packages (0.3.25)\n",
            "Collecting langgraph\n",
            "  Downloading langgraph-0.4.3-py3-none-any.whl.metadata (7.9 kB)\n",
            "Collecting langchain-openai\n",
            "  Downloading langchain_openai-0.3.16-py3-none-any.whl.metadata (2.3 kB)\n",
            "Requirement already satisfied: langchain-core<1.0.0,>=0.3.58 in /usr/local/lib/python3.11/dist-packages (from langchain) (0.3.59)\n",
            "Requirement already satisfied: langchain-text-splitters<1.0.0,>=0.3.8 in /usr/local/lib/python3.11/dist-packages (from langchain) (0.3.8)\n",
            "Requirement already satisfied: langsmith<0.4,>=0.1.17 in /usr/local/lib/python3.11/dist-packages (from langchain) (0.3.42)\n",
            "Requirement already satisfied: pydantic<3.0.0,>=2.7.4 in /usr/local/lib/python3.11/dist-packages (from langchain) (2.11.4)\n",
            "Requirement already satisfied: SQLAlchemy<3,>=1.4 in /usr/local/lib/python3.11/dist-packages (from langchain) (2.0.40)\n",
            "Requirement already satisfied: requests<3,>=2 in /usr/local/lib/python3.11/dist-packages (from langchain) (2.32.3)\n",
            "Requirement already satisfied: PyYAML>=5.3 in /usr/local/lib/python3.11/dist-packages (from langchain) (6.0.2)\n",
            "Collecting langgraph-checkpoint<3.0.0,>=2.0.10 (from langgraph)\n",
            "  Downloading langgraph_checkpoint-2.0.25-py3-none-any.whl.metadata (4.6 kB)\n",
            "Collecting langgraph-prebuilt>=0.1.8 (from langgraph)\n",
            "  Downloading langgraph_prebuilt-0.1.8-py3-none-any.whl.metadata (5.0 kB)\n",
            "Collecting langgraph-sdk>=0.1.42 (from langgraph)\n",
            "  Downloading langgraph_sdk-0.1.69-py3-none-any.whl.metadata (1.8 kB)\n",
            "Requirement already satisfied: xxhash<4.0.0,>=3.5.0 in /usr/local/lib/python3.11/dist-packages (from langgraph) (3.5.0)\n",
            "Requirement already satisfied: openai<2.0.0,>=1.68.2 in /usr/local/lib/python3.11/dist-packages (from langchain-openai) (1.77.0)\n",
            "Requirement already satisfied: tiktoken<1,>=0.7 in /usr/local/lib/python3.11/dist-packages (from langchain-openai) (0.9.0)\n",
            "Requirement already satisfied: tenacity!=8.4.0,<10.0.0,>=8.1.0 in /usr/local/lib/python3.11/dist-packages (from langchain-core<1.0.0,>=0.3.58->langchain) (9.1.2)\n",
            "Requirement already satisfied: jsonpatch<2.0,>=1.33 in /usr/local/lib/python3.11/dist-packages (from langchain-core<1.0.0,>=0.3.58->langchain) (1.33)\n",
            "Requirement already satisfied: packaging<25,>=23.2 in /usr/local/lib/python3.11/dist-packages (from langchain-core<1.0.0,>=0.3.58->langchain) (24.2)\n",
            "Requirement already satisfied: typing-extensions>=4.7 in /usr/local/lib/python3.11/dist-packages (from langchain-core<1.0.0,>=0.3.58->langchain) (4.13.2)\n",
            "Collecting ormsgpack<2.0.0,>=1.8.0 (from langgraph-checkpoint<3.0.0,>=2.0.10->langgraph)\n",
            "  Downloading ormsgpack-1.9.1-cp311-cp311-manylinux_2_17_x86_64.manylinux2014_x86_64.whl.metadata (43 kB)\n",
            "\u001b[2K     \u001b[90m━━━━━━━━━━━━━━━━━━━━━━━━━━━━━━━━━━━━━━━━\u001b[0m \u001b[32m43.5/43.5 kB\u001b[0m \u001b[31m2.2 MB/s\u001b[0m eta \u001b[36m0:00:00\u001b[0m\n",
            "\u001b[?25hRequirement already satisfied: httpx>=0.25.2 in /usr/local/lib/python3.11/dist-packages (from langgraph-sdk>=0.1.42->langgraph) (0.28.1)\n",
            "Requirement already satisfied: orjson>=3.10.1 in /usr/local/lib/python3.11/dist-packages (from langgraph-sdk>=0.1.42->langgraph) (3.10.18)\n",
            "Requirement already satisfied: requests-toolbelt<2.0.0,>=1.0.0 in /usr/local/lib/python3.11/dist-packages (from langsmith<0.4,>=0.1.17->langchain) (1.0.0)\n",
            "Requirement already satisfied: zstandard<0.24.0,>=0.23.0 in /usr/local/lib/python3.11/dist-packages (from langsmith<0.4,>=0.1.17->langchain) (0.23.0)\n",
            "Requirement already satisfied: anyio<5,>=3.5.0 in /usr/local/lib/python3.11/dist-packages (from openai<2.0.0,>=1.68.2->langchain-openai) (4.9.0)\n",
            "Requirement already satisfied: distro<2,>=1.7.0 in /usr/local/lib/python3.11/dist-packages (from openai<2.0.0,>=1.68.2->langchain-openai) (1.9.0)\n",
            "Requirement already satisfied: jiter<1,>=0.4.0 in /usr/local/lib/python3.11/dist-packages (from openai<2.0.0,>=1.68.2->langchain-openai) (0.9.0)\n",
            "Requirement already satisfied: sniffio in /usr/local/lib/python3.11/dist-packages (from openai<2.0.0,>=1.68.2->langchain-openai) (1.3.1)\n",
            "Requirement already satisfied: tqdm>4 in /usr/local/lib/python3.11/dist-packages (from openai<2.0.0,>=1.68.2->langchain-openai) (4.67.1)\n",
            "Requirement already satisfied: annotated-types>=0.6.0 in /usr/local/lib/python3.11/dist-packages (from pydantic<3.0.0,>=2.7.4->langchain) (0.7.0)\n",
            "Requirement already satisfied: pydantic-core==2.33.2 in /usr/local/lib/python3.11/dist-packages (from pydantic<3.0.0,>=2.7.4->langchain) (2.33.2)\n",
            "Requirement already satisfied: typing-inspection>=0.4.0 in /usr/local/lib/python3.11/dist-packages (from pydantic<3.0.0,>=2.7.4->langchain) (0.4.0)\n",
            "Requirement already satisfied: charset-normalizer<4,>=2 in /usr/local/lib/python3.11/dist-packages (from requests<3,>=2->langchain) (3.4.2)\n",
            "Requirement already satisfied: idna<4,>=2.5 in /usr/local/lib/python3.11/dist-packages (from requests<3,>=2->langchain) (3.10)\n",
            "Requirement already satisfied: urllib3<3,>=1.21.1 in /usr/local/lib/python3.11/dist-packages (from requests<3,>=2->langchain) (2.4.0)\n",
            "Requirement already satisfied: certifi>=2017.4.17 in /usr/local/lib/python3.11/dist-packages (from requests<3,>=2->langchain) (2025.4.26)\n",
            "Requirement already satisfied: greenlet>=1 in /usr/local/lib/python3.11/dist-packages (from SQLAlchemy<3,>=1.4->langchain) (3.2.1)\n",
            "Requirement already satisfied: regex>=2022.1.18 in /usr/local/lib/python3.11/dist-packages (from tiktoken<1,>=0.7->langchain-openai) (2024.11.6)\n",
            "Requirement already satisfied: httpcore==1.* in /usr/local/lib/python3.11/dist-packages (from httpx>=0.25.2->langgraph-sdk>=0.1.42->langgraph) (1.0.9)\n",
            "Requirement already satisfied: h11>=0.16 in /usr/local/lib/python3.11/dist-packages (from httpcore==1.*->httpx>=0.25.2->langgraph-sdk>=0.1.42->langgraph) (0.16.0)\n",
            "Requirement already satisfied: jsonpointer>=1.9 in /usr/local/lib/python3.11/dist-packages (from jsonpatch<2.0,>=1.33->langchain-core<1.0.0,>=0.3.58->langchain) (3.0.0)\n",
            "Downloading langgraph-0.4.3-py3-none-any.whl (151 kB)\n",
            "\u001b[2K   \u001b[90m━━━━━━━━━━━━━━━━━━━━━━━━━━━━━━━━━━━━━━━━\u001b[0m \u001b[32m151.2/151.2 kB\u001b[0m \u001b[31m5.4 MB/s\u001b[0m eta \u001b[36m0:00:00\u001b[0m\n",
            "\u001b[?25hDownloading langchain_openai-0.3.16-py3-none-any.whl (62 kB)\n",
            "\u001b[2K   \u001b[90m━━━━━━━━━━━━━━━━━━━━━━━━━━━━━━━━━━━━━━━━\u001b[0m \u001b[32m62.8/62.8 kB\u001b[0m \u001b[31m4.5 MB/s\u001b[0m eta \u001b[36m0:00:00\u001b[0m\n",
            "\u001b[?25hDownloading langgraph_checkpoint-2.0.25-py3-none-any.whl (42 kB)\n",
            "\u001b[2K   \u001b[90m━━━━━━━━━━━━━━━━━━━━━━━━━━━━━━━━━━━━━━━━\u001b[0m \u001b[32m42.3/42.3 kB\u001b[0m \u001b[31m2.8 MB/s\u001b[0m eta \u001b[36m0:00:00\u001b[0m\n",
            "\u001b[?25hDownloading langgraph_prebuilt-0.1.8-py3-none-any.whl (25 kB)\n",
            "Downloading langgraph_sdk-0.1.69-py3-none-any.whl (48 kB)\n",
            "\u001b[2K   \u001b[90m━━━━━━━━━━━━━━━━━━━━━━━━━━━━━━━━━━━━━━━━\u001b[0m \u001b[32m48.9/48.9 kB\u001b[0m \u001b[31m3.8 MB/s\u001b[0m eta \u001b[36m0:00:00\u001b[0m\n",
            "\u001b[?25hDownloading ormsgpack-1.9.1-cp311-cp311-manylinux_2_17_x86_64.manylinux2014_x86_64.whl (223 kB)\n",
            "\u001b[2K   \u001b[90m━━━━━━━━━━━━━━━━━━━━━━━━━━━━━━━━━━━━━━━━\u001b[0m \u001b[32m223.6/223.6 kB\u001b[0m \u001b[31m17.9 MB/s\u001b[0m eta \u001b[36m0:00:00\u001b[0m\n",
            "\u001b[?25hInstalling collected packages: ormsgpack, langgraph-sdk, langgraph-checkpoint, langchain-openai, langgraph-prebuilt, langgraph\n",
            "Successfully installed langchain-openai-0.3.16 langgraph-0.4.3 langgraph-checkpoint-2.0.25 langgraph-prebuilt-0.1.8 langgraph-sdk-0.1.69 ormsgpack-1.9.1\n"
          ]
        }
      ],
      "source": [
        "!pip install langchain langgraph langchain-openai"
      ]
    },
    {
      "cell_type": "code",
      "source": [
        "from google.colab import userdata\n",
        "import os\n",
        "os.environ['OPENAI_API_KEY'] = userdata.get('OPENAI_API_KEY')"
      ],
      "metadata": {
        "id": "kZ1bBkYwbn9e"
      },
      "execution_count": 2,
      "outputs": []
    },
    {
      "cell_type": "code",
      "source": [
        "from langchain_openai import ChatOpenAI\n",
        "from langgraph.prebuilt import create_react_agent\n",
        "from langchain.tools import tool"
      ],
      "metadata": {
        "id": "wR21y5y7bqoE"
      },
      "execution_count": 3,
      "outputs": []
    },
    {
      "cell_type": "code",
      "source": [
        "@tool\n",
        "def calculate_area(input:str)->str:\n",
        "  '''Calculate the area of a rectangle'''\n",
        "  input = input.split(\",\")\n",
        "  height,width = float(input[0]),float(input[1])\n",
        "  return str(height*width)"
      ],
      "metadata": {
        "id": "UZP8tY5YcGvs"
      },
      "execution_count": 4,
      "outputs": []
    },
    {
      "cell_type": "code",
      "source": [
        "llm = ChatOpenAI(model=\"gpt-4o-mini\",temperature=0)"
      ],
      "metadata": {
        "id": "CuQrryahb4oE"
      },
      "execution_count": 5,
      "outputs": []
    },
    {
      "cell_type": "code",
      "source": [
        "agent_app = create_react_agent(llm, [calculate_area])"
      ],
      "metadata": {
        "id": "57-8AbrRb_bt"
      },
      "execution_count": 6,
      "outputs": []
    },
    {
      "cell_type": "code",
      "source": [
        "query = \"What is the area of a rectangle with sides 14 and 4 ?\"\n",
        "response = agent_app.invoke({\"messages\":[(\"human\",query)]})\n",
        "response[\"messages\"][-1].content"
      ],
      "metadata": {
        "colab": {
          "base_uri": "https://localhost:8080/",
          "height": 38
        },
        "id": "Opg2GZSRcfLc",
        "outputId": "2056de18-4e68-4a5b-a318-b9a2d03d49fe"
      },
      "execution_count": 7,
      "outputs": [
        {
          "output_type": "execute_result",
          "data": {
            "text/plain": [
              "'The area of the rectangle with sides 14 and 4 is 56 square units.'"
            ],
            "application/vnd.google.colaboratory.intrinsic+json": {
              "type": "string"
            }
          },
          "metadata": {},
          "execution_count": 7
        }
      ]
    },
    {
      "cell_type": "code",
      "source": [
        "response"
      ],
      "metadata": {
        "colab": {
          "base_uri": "https://localhost:8080/"
        },
        "id": "z8DEseBjdMjE",
        "outputId": "d3848b55-0ec2-4686-cb50-c712be46ec97"
      },
      "execution_count": 8,
      "outputs": [
        {
          "output_type": "execute_result",
          "data": {
            "text/plain": [
              "{'messages': [HumanMessage(content='What is the area of a rectangle with sides 14 and 4 ?', additional_kwargs={}, response_metadata={}, id='3e551fcf-aaa1-420d-bf19-fbbfebaa6a2f'),\n",
              "  AIMessage(content='', additional_kwargs={'tool_calls': [{'id': 'call_V5STFJHhbyHlWrw64m2hKwsX', 'function': {'arguments': '{\"input\":\"14,4\"}', 'name': 'calculate_area'}, 'type': 'function'}], 'refusal': None}, response_metadata={'token_usage': {'completion_tokens': 17, 'prompt_tokens': 59, 'total_tokens': 76, 'completion_tokens_details': {'accepted_prediction_tokens': 0, 'audio_tokens': 0, 'reasoning_tokens': 0, 'rejected_prediction_tokens': 0}, 'prompt_tokens_details': {'audio_tokens': 0, 'cached_tokens': 0}}, 'model_name': 'gpt-4o-mini-2024-07-18', 'system_fingerprint': 'fp_0392822090', 'id': 'chatcmpl-BWeOjvYLdn79SETw9rsfUXAhJrFMx', 'service_tier': 'default', 'finish_reason': 'tool_calls', 'logprobs': None}, id='run--093d3236-9134-491f-824e-38245c06c32a-0', tool_calls=[{'name': 'calculate_area', 'args': {'input': '14,4'}, 'id': 'call_V5STFJHhbyHlWrw64m2hKwsX', 'type': 'tool_call'}], usage_metadata={'input_tokens': 59, 'output_tokens': 17, 'total_tokens': 76, 'input_token_details': {'audio': 0, 'cache_read': 0}, 'output_token_details': {'audio': 0, 'reasoning': 0}}),\n",
              "  ToolMessage(content='56.0', name='calculate_area', id='10438ab7-98fa-47d1-944c-77eeb80fbb11', tool_call_id='call_V5STFJHhbyHlWrw64m2hKwsX'),\n",
              "  AIMessage(content='The area of the rectangle with sides 14 and 4 is 56 square units.', additional_kwargs={'refusal': None}, response_metadata={'token_usage': {'completion_tokens': 20, 'prompt_tokens': 86, 'total_tokens': 106, 'completion_tokens_details': {'accepted_prediction_tokens': 0, 'audio_tokens': 0, 'reasoning_tokens': 0, 'rejected_prediction_tokens': 0}, 'prompt_tokens_details': {'audio_tokens': 0, 'cached_tokens': 0}}, 'model_name': 'gpt-4o-mini-2024-07-18', 'system_fingerprint': 'fp_0392822090', 'id': 'chatcmpl-BWeOl4fk22UdFcWXvkM4kWjsE4R4s', 'service_tier': 'default', 'finish_reason': 'stop', 'logprobs': None}, id='run--219e8244-2b75-497b-ac30-923d6f9fbf03-0', usage_metadata={'input_tokens': 86, 'output_tokens': 20, 'total_tokens': 106, 'input_token_details': {'audio': 0, 'cache_read': 0}, 'output_token_details': {'audio': 0, 'reasoning': 0}})]}"
            ]
          },
          "metadata": {},
          "execution_count": 8
        }
      ]
    },
    {
      "cell_type": "markdown",
      "source": [
        "🧠 1. HumanMessage \\\n",
        "HumanMessage(content='What is the area of a rectangle with sides 14 and 4 ?') \\\n",
        "You asked the agent a question. This gets passed into the agent via app.invoke() or similar. \\\\\n",
        "\n",
        "🛠️ 2. AIMessage with tool_call \\\n",
        "AIMessage( \\\n",
        "  content=' ', \\\n",
        "  tool_calls=[{ \\\n",
        "    'name': 'calculate_area', \\\n",
        "    'args': {'input': '14,4'} \\\n",
        "  }] \\\n",
        ") \\\n",
        "The AI didn’t immediately answer. Instead, it decided:\n",
        "“To answer, I need to use the tool calculate_area with input 14,4.”\n",
        "This is ReAct behavior — the agent reacts and chooses a tool. \\\\\n",
        "\n",
        "🧰 3. ToolMessage (tool result) \\\\\n",
        "ToolMessage(content='56.0', name='calculate_area') \\\n",
        "This is the result returned from your tool calculate_area. It calculated 14 * 4 = 56. \\\n",
        "🤖 4. Final AIMessage (Answer to the user) \\\n",
        "AIMessage(content='The area of the rectangle with sides 14 and 4 is 56 square units.') \\\n",
        "The agent now answers using the tool result it received. \\\\\n",
        "**User ➡️ Tool Call ➡️ Tool Result ➡️ Final Answer** \\\\\n",
        "This is expected in ReAct-based tool usage with LangGraph or LangChain agents.\n",
        "\n",
        "\n",
        "\n",
        "\n",
        "\n",
        "\n",
        "\n",
        "\n",
        "\n",
        "\n",
        "\n"
      ],
      "metadata": {
        "id": "fJHB54C0o2cN"
      }
    },
    {
      "cell_type": "code",
      "source": [
        "messages = {}\n",
        "message_history = messages[\"messages\"] = response[\"messages\"]"
      ],
      "metadata": {
        "id": "8zStQLuVlMwl"
      },
      "execution_count": 13,
      "outputs": []
    },
    {
      "cell_type": "code",
      "source": [
        "message_history"
      ],
      "metadata": {
        "colab": {
          "base_uri": "https://localhost:8080/"
        },
        "id": "OIFVSof3oQHl",
        "outputId": "6eb43cd6-9381-490c-db64-04dd155a0183"
      },
      "execution_count": 19,
      "outputs": [
        {
          "output_type": "execute_result",
          "data": {
            "text/plain": [
              "[HumanMessage(content='What is the area of a rectangle with sides 12 and 14 ?', additional_kwargs={}, response_metadata={}, id='5e43b09c-84c5-42b2-b920-3f58f3361265'),\n",
              " AIMessage(content='', additional_kwargs={'tool_calls': [{'id': 'call_DWAT8icVU1IDTzUuxBEwmChu', 'function': {'arguments': '{\"input\":\"12,14\"}', 'name': 'calculate_area'}, 'type': 'function'}], 'refusal': None}, response_metadata={'token_usage': {'completion_tokens': 17, 'prompt_tokens': 59, 'total_tokens': 76, 'completion_tokens_details': {'accepted_prediction_tokens': 0, 'audio_tokens': 0, 'reasoning_tokens': 0, 'rejected_prediction_tokens': 0}, 'prompt_tokens_details': {'audio_tokens': 0, 'cached_tokens': 0}}, 'model_name': 'gpt-4o-mini-2024-07-18', 'system_fingerprint': 'fp_0392822090', 'id': 'chatcmpl-BWeTxi5ANm79qgSMlJ3FCchNfOte8', 'service_tier': 'default', 'finish_reason': 'tool_calls', 'logprobs': None}, id='run--79a31cd1-302b-4f69-89b0-d1c09b1e4c90-0', tool_calls=[{'name': 'calculate_area', 'args': {'input': '12,14'}, 'id': 'call_DWAT8icVU1IDTzUuxBEwmChu', 'type': 'tool_call'}], usage_metadata={'input_tokens': 59, 'output_tokens': 17, 'total_tokens': 76, 'input_token_details': {'audio': 0, 'cache_read': 0}, 'output_token_details': {'audio': 0, 'reasoning': 0}}),\n",
              " ToolMessage(content='168.0', name='calculate_area', id='88495be0-acad-4a7f-94a5-520b847630bb', tool_call_id='call_DWAT8icVU1IDTzUuxBEwmChu'),\n",
              " AIMessage(content='The area of the rectangle with sides 12 and 14 is 168 square units.', additional_kwargs={'refusal': None}, response_metadata={'token_usage': {'completion_tokens': 20, 'prompt_tokens': 86, 'total_tokens': 106, 'completion_tokens_details': {'accepted_prediction_tokens': 0, 'audio_tokens': 0, 'reasoning_tokens': 0, 'rejected_prediction_tokens': 0}, 'prompt_tokens_details': {'audio_tokens': 0, 'cached_tokens': 0}}, 'model_name': 'gpt-4o-mini-2024-07-18', 'system_fingerprint': 'fp_0392822090', 'id': 'chatcmpl-BWeTyGjnXPb783HlkK7Vnem879nC3', 'service_tier': 'default', 'finish_reason': 'stop', 'logprobs': None}, id='run--6fe4d020-883f-4c9a-b151-296d81f0a899-0', usage_metadata={'input_tokens': 86, 'output_tokens': 20, 'total_tokens': 106, 'input_token_details': {'audio': 0, 'cache_read': 0}, 'output_token_details': {'audio': 0, 'reasoning': 0}})]"
            ]
          },
          "metadata": {},
          "execution_count": 19
        }
      ]
    },
    {
      "cell_type": "code",
      "source": [
        "query = \"What is the area of a rectangle with sides 12 and 14 ?\"\n",
        "response = agent_app.invoke({\"messages\":[(\"human\",query)]})\n",
        "response"
      ],
      "metadata": {
        "colab": {
          "base_uri": "https://localhost:8080/"
        },
        "id": "hBQiiIq6dfqE",
        "outputId": "7a6a83fd-a322-491c-a7ff-80bca056631c"
      },
      "execution_count": 12,
      "outputs": [
        {
          "output_type": "execute_result",
          "data": {
            "text/plain": [
              "{'messages': [HumanMessage(content='What is the area of a rectangle with sides 12 and 14 ?', additional_kwargs={}, response_metadata={}, id='5e43b09c-84c5-42b2-b920-3f58f3361265'),\n",
              "  AIMessage(content='', additional_kwargs={'tool_calls': [{'id': 'call_DWAT8icVU1IDTzUuxBEwmChu', 'function': {'arguments': '{\"input\":\"12,14\"}', 'name': 'calculate_area'}, 'type': 'function'}], 'refusal': None}, response_metadata={'token_usage': {'completion_tokens': 17, 'prompt_tokens': 59, 'total_tokens': 76, 'completion_tokens_details': {'accepted_prediction_tokens': 0, 'audio_tokens': 0, 'reasoning_tokens': 0, 'rejected_prediction_tokens': 0}, 'prompt_tokens_details': {'audio_tokens': 0, 'cached_tokens': 0}}, 'model_name': 'gpt-4o-mini-2024-07-18', 'system_fingerprint': 'fp_0392822090', 'id': 'chatcmpl-BWeTxi5ANm79qgSMlJ3FCchNfOte8', 'service_tier': 'default', 'finish_reason': 'tool_calls', 'logprobs': None}, id='run--79a31cd1-302b-4f69-89b0-d1c09b1e4c90-0', tool_calls=[{'name': 'calculate_area', 'args': {'input': '12,14'}, 'id': 'call_DWAT8icVU1IDTzUuxBEwmChu', 'type': 'tool_call'}], usage_metadata={'input_tokens': 59, 'output_tokens': 17, 'total_tokens': 76, 'input_token_details': {'audio': 0, 'cache_read': 0}, 'output_token_details': {'audio': 0, 'reasoning': 0}}),\n",
              "  ToolMessage(content='168.0', name='calculate_area', id='88495be0-acad-4a7f-94a5-520b847630bb', tool_call_id='call_DWAT8icVU1IDTzUuxBEwmChu'),\n",
              "  AIMessage(content='The area of the rectangle with sides 12 and 14 is 168 square units.', additional_kwargs={'refusal': None}, response_metadata={'token_usage': {'completion_tokens': 20, 'prompt_tokens': 86, 'total_tokens': 106, 'completion_tokens_details': {'accepted_prediction_tokens': 0, 'audio_tokens': 0, 'reasoning_tokens': 0, 'rejected_prediction_tokens': 0}, 'prompt_tokens_details': {'audio_tokens': 0, 'cached_tokens': 0}}, 'model_name': 'gpt-4o-mini-2024-07-18', 'system_fingerprint': 'fp_0392822090', 'id': 'chatcmpl-BWeTyGjnXPb783HlkK7Vnem879nC3', 'service_tier': 'default', 'finish_reason': 'stop', 'logprobs': None}, id='run--6fe4d020-883f-4c9a-b151-296d81f0a899-0', usage_metadata={'input_tokens': 86, 'output_tokens': 20, 'total_tokens': 106, 'input_token_details': {'audio': 0, 'cache_read': 0}, 'output_token_details': {'audio': 0, 'reasoning': 0}})]}"
            ]
          },
          "metadata": {},
          "execution_count": 12
        }
      ]
    },
    {
      "cell_type": "code",
      "source": [
        "from langchain_core.messages import HumanMessage, AIMessage"
      ],
      "metadata": {
        "id": "UfesIqHodph1"
      },
      "execution_count": 10,
      "outputs": []
    },
    {
      "cell_type": "code",
      "source": [
        "new_query = \"What about one with sides 10 and 3\"\n",
        "messages = agent_app.invoke({\"messages\":message_history + [(\"human\",new_query)]})\n",
        "messages"
      ],
      "metadata": {
        "colab": {
          "base_uri": "https://localhost:8080/"
        },
        "id": "7aOo6JLEgF50",
        "outputId": "ccd9509e-14cd-4692-84ed-7268b990a498"
      },
      "execution_count": 14,
      "outputs": [
        {
          "output_type": "execute_result",
          "data": {
            "text/plain": [
              "{'messages': [HumanMessage(content='What is the area of a rectangle with sides 12 and 14 ?', additional_kwargs={}, response_metadata={}, id='5e43b09c-84c5-42b2-b920-3f58f3361265'),\n",
              "  AIMessage(content='', additional_kwargs={'tool_calls': [{'id': 'call_DWAT8icVU1IDTzUuxBEwmChu', 'function': {'arguments': '{\"input\":\"12,14\"}', 'name': 'calculate_area'}, 'type': 'function'}], 'refusal': None}, response_metadata={'token_usage': {'completion_tokens': 17, 'prompt_tokens': 59, 'total_tokens': 76, 'completion_tokens_details': {'accepted_prediction_tokens': 0, 'audio_tokens': 0, 'reasoning_tokens': 0, 'rejected_prediction_tokens': 0}, 'prompt_tokens_details': {'audio_tokens': 0, 'cached_tokens': 0}}, 'model_name': 'gpt-4o-mini-2024-07-18', 'system_fingerprint': 'fp_0392822090', 'id': 'chatcmpl-BWeTxi5ANm79qgSMlJ3FCchNfOte8', 'service_tier': 'default', 'finish_reason': 'tool_calls', 'logprobs': None}, id='run--79a31cd1-302b-4f69-89b0-d1c09b1e4c90-0', tool_calls=[{'name': 'calculate_area', 'args': {'input': '12,14'}, 'id': 'call_DWAT8icVU1IDTzUuxBEwmChu', 'type': 'tool_call'}], usage_metadata={'input_tokens': 59, 'output_tokens': 17, 'total_tokens': 76, 'input_token_details': {'audio': 0, 'cache_read': 0}, 'output_token_details': {'audio': 0, 'reasoning': 0}}),\n",
              "  ToolMessage(content='168.0', name='calculate_area', id='88495be0-acad-4a7f-94a5-520b847630bb', tool_call_id='call_DWAT8icVU1IDTzUuxBEwmChu'),\n",
              "  AIMessage(content='The area of the rectangle with sides 12 and 14 is 168 square units.', additional_kwargs={'refusal': None}, response_metadata={'token_usage': {'completion_tokens': 20, 'prompt_tokens': 86, 'total_tokens': 106, 'completion_tokens_details': {'accepted_prediction_tokens': 0, 'audio_tokens': 0, 'reasoning_tokens': 0, 'rejected_prediction_tokens': 0}, 'prompt_tokens_details': {'audio_tokens': 0, 'cached_tokens': 0}}, 'model_name': 'gpt-4o-mini-2024-07-18', 'system_fingerprint': 'fp_0392822090', 'id': 'chatcmpl-BWeTyGjnXPb783HlkK7Vnem879nC3', 'service_tier': 'default', 'finish_reason': 'stop', 'logprobs': None}, id='run--6fe4d020-883f-4c9a-b151-296d81f0a899-0', usage_metadata={'input_tokens': 86, 'output_tokens': 20, 'total_tokens': 106, 'input_token_details': {'audio': 0, 'cache_read': 0}, 'output_token_details': {'audio': 0, 'reasoning': 0}}),\n",
              "  HumanMessage(content='What about one with sides 10 and 3', additional_kwargs={}, response_metadata={}, id='e2ee424f-0ab9-4748-b8d7-0b2a4a86ca71'),\n",
              "  AIMessage(content='', additional_kwargs={'tool_calls': [{'id': 'call_zhmWv8CrevuQX7s4d5WVRvXz', 'function': {'arguments': '{\"input\":\"10,3\"}', 'name': 'calculate_area'}, 'type': 'function'}], 'refusal': None}, response_metadata={'token_usage': {'completion_tokens': 17, 'prompt_tokens': 122, 'total_tokens': 139, 'completion_tokens_details': {'accepted_prediction_tokens': 0, 'audio_tokens': 0, 'reasoning_tokens': 0, 'rejected_prediction_tokens': 0}, 'prompt_tokens_details': {'audio_tokens': 0, 'cached_tokens': 0}}, 'model_name': 'gpt-4o-mini-2024-07-18', 'system_fingerprint': 'fp_0392822090', 'id': 'chatcmpl-BWeWcrrPjZJpWWZ4Oj2BwOvcuFSEH', 'service_tier': 'default', 'finish_reason': 'tool_calls', 'logprobs': None}, id='run--7adbce51-75b9-4282-825c-2002ff211733-0', tool_calls=[{'name': 'calculate_area', 'args': {'input': '10,3'}, 'id': 'call_zhmWv8CrevuQX7s4d5WVRvXz', 'type': 'tool_call'}], usage_metadata={'input_tokens': 122, 'output_tokens': 17, 'total_tokens': 139, 'input_token_details': {'audio': 0, 'cache_read': 0}, 'output_token_details': {'audio': 0, 'reasoning': 0}}),\n",
              "  ToolMessage(content='30.0', name='calculate_area', id='f063fc4d-270f-4615-8e3b-a1ca51a89fc7', tool_call_id='call_zhmWv8CrevuQX7s4d5WVRvXz'),\n",
              "  AIMessage(content='The area of the rectangle with sides 10 and 3 is 30 square units.', additional_kwargs={'refusal': None}, response_metadata={'token_usage': {'completion_tokens': 20, 'prompt_tokens': 149, 'total_tokens': 169, 'completion_tokens_details': {'accepted_prediction_tokens': 0, 'audio_tokens': 0, 'reasoning_tokens': 0, 'rejected_prediction_tokens': 0}, 'prompt_tokens_details': {'audio_tokens': 0, 'cached_tokens': 0}}, 'model_name': 'gpt-4o-mini-2024-07-18', 'system_fingerprint': 'fp_0392822090', 'id': 'chatcmpl-BWeWdmsSliiXw17kFrUrew3ZRYUnA', 'service_tier': 'default', 'finish_reason': 'stop', 'logprobs': None}, id='run--6667e606-ec3e-490e-87f6-a89d161bd4d7-0', usage_metadata={'input_tokens': 149, 'output_tokens': 20, 'total_tokens': 169, 'input_token_details': {'audio': 0, 'cache_read': 0}, 'output_token_details': {'audio': 0, 'reasoning': 0}})]}"
            ]
          },
          "metadata": {},
          "execution_count": 14
        }
      ]
    },
    {
      "cell_type": "code",
      "source": [
        "filtered_messages = [msg for msg in messages['messages'] if isinstance(msg,(HumanMessage,AIMessage)) and msg.content.strip()]\n",
        "len(filtered_messages)\n",
        "filtered_messages"
      ],
      "metadata": {
        "colab": {
          "base_uri": "https://localhost:8080/"
        },
        "id": "AaO6YwFRiVWF",
        "outputId": "dd67d8f0-94b8-455c-cd72-4ff0bb797ceb"
      },
      "execution_count": 17,
      "outputs": [
        {
          "output_type": "execute_result",
          "data": {
            "text/plain": [
              "[HumanMessage(content='What is the area of a rectangle with sides 12 and 14 ?', additional_kwargs={}, response_metadata={}, id='5e43b09c-84c5-42b2-b920-3f58f3361265'),\n",
              " AIMessage(content='The area of the rectangle with sides 12 and 14 is 168 square units.', additional_kwargs={'refusal': None}, response_metadata={'token_usage': {'completion_tokens': 20, 'prompt_tokens': 86, 'total_tokens': 106, 'completion_tokens_details': {'accepted_prediction_tokens': 0, 'audio_tokens': 0, 'reasoning_tokens': 0, 'rejected_prediction_tokens': 0}, 'prompt_tokens_details': {'audio_tokens': 0, 'cached_tokens': 0}}, 'model_name': 'gpt-4o-mini-2024-07-18', 'system_fingerprint': 'fp_0392822090', 'id': 'chatcmpl-BWeTyGjnXPb783HlkK7Vnem879nC3', 'service_tier': 'default', 'finish_reason': 'stop', 'logprobs': None}, id='run--6fe4d020-883f-4c9a-b151-296d81f0a899-0', usage_metadata={'input_tokens': 86, 'output_tokens': 20, 'total_tokens': 106, 'input_token_details': {'audio': 0, 'cache_read': 0}, 'output_token_details': {'audio': 0, 'reasoning': 0}}),\n",
              " HumanMessage(content='What about one with sides 10 and 3', additional_kwargs={}, response_metadata={}, id='e2ee424f-0ab9-4748-b8d7-0b2a4a86ca71'),\n",
              " AIMessage(content='The area of the rectangle with sides 10 and 3 is 30 square units.', additional_kwargs={'refusal': None}, response_metadata={'token_usage': {'completion_tokens': 20, 'prompt_tokens': 149, 'total_tokens': 169, 'completion_tokens_details': {'accepted_prediction_tokens': 0, 'audio_tokens': 0, 'reasoning_tokens': 0, 'rejected_prediction_tokens': 0}, 'prompt_tokens_details': {'audio_tokens': 0, 'cached_tokens': 0}}, 'model_name': 'gpt-4o-mini-2024-07-18', 'system_fingerprint': 'fp_0392822090', 'id': 'chatcmpl-BWeWdmsSliiXw17kFrUrew3ZRYUnA', 'service_tier': 'default', 'finish_reason': 'stop', 'logprobs': None}, id='run--6667e606-ec3e-490e-87f6-a89d161bd4d7-0', usage_metadata={'input_tokens': 149, 'output_tokens': 20, 'total_tokens': 169, 'input_token_details': {'audio': 0, 'cache_read': 0}, 'output_token_details': {'audio': 0, 'reasoning': 0}})]"
            ]
          },
          "metadata": {},
          "execution_count": 17
        }
      ]
    },
    {
      "cell_type": "code",
      "source": [
        "print({\n",
        "    \"user_input\": new_query,\n",
        "    \"agent_ouput\": [\n",
        "        f\"{msg.__class__.__name__}:{msg.content}\" for msg in filtered_messages\n",
        "    ]\n",
        "})"
      ],
      "metadata": {
        "colab": {
          "base_uri": "https://localhost:8080/"
        },
        "id": "SlgSA-YwlrBt",
        "outputId": "cd25f06e-869d-4b68-b9d6-621475c06cdd"
      },
      "execution_count": 18,
      "outputs": [
        {
          "output_type": "stream",
          "name": "stdout",
          "text": [
            "{'user_input': 'What about one with sides 10 and 3', 'agent_ouput': ['HumanMessage:What is the area of a rectangle with sides 12 and 14 ?', 'AIMessage:The area of the rectangle with sides 12 and 14 is 168 square units.', 'HumanMessage:What about one with sides 10 and 3', 'AIMessage:The area of the rectangle with sides 10 and 3 is 30 square units.']}\n"
          ]
        }
      ]
    },
    {
      "cell_type": "code",
      "source": [],
      "metadata": {
        "id": "rbmMm1oimU7W"
      },
      "execution_count": null,
      "outputs": []
    }
  ]
}