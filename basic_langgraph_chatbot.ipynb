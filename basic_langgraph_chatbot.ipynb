{
  "nbformat": 4,
  "nbformat_minor": 0,
  "metadata": {
    "colab": {
      "provenance": [],
      "authorship_tag": "ABX9TyOttO1/4nNArDQoQFJijmWw",
      "include_colab_link": true
    },
    "kernelspec": {
      "name": "python3",
      "display_name": "Python 3"
    },
    "language_info": {
      "name": "python"
    }
  },
  "cells": [
    {
      "cell_type": "markdown",
      "metadata": {
        "id": "view-in-github",
        "colab_type": "text"
      },
      "source": [
        "<a href=\"https://colab.research.google.com/github/GenAIUnplugged/langGraph_series/blob/main/basic_langgraph_chatbot.ipynb\" target=\"_parent\"><img src=\"https://colab.research.google.com/assets/colab-badge.svg\" alt=\"Open In Colab\"/></a>"
      ]
    },
    {
      "cell_type": "code",
      "execution_count": 10,
      "metadata": {
        "colab": {
          "base_uri": "https://localhost:8080/"
        },
        "id": "RUXEGZ8I1jkZ",
        "outputId": "1ce543a6-defa-472a-e48f-6593adb00b11"
      },
      "outputs": [
        {
          "output_type": "stream",
          "name": "stdout",
          "text": [
            "Requirement already satisfied: langgraph in /usr/local/lib/python3.11/dist-packages (0.4.3)\n",
            "Requirement already satisfied: langsmith in /usr/local/lib/python3.11/dist-packages (0.3.42)\n",
            "Collecting langchain-groq\n",
            "  Downloading langchain_groq-0.3.2-py3-none-any.whl.metadata (2.6 kB)\n",
            "Requirement already satisfied: langchain-core>=0.1 in /usr/local/lib/python3.11/dist-packages (from langgraph) (0.3.59)\n",
            "Requirement already satisfied: langgraph-checkpoint<3.0.0,>=2.0.10 in /usr/local/lib/python3.11/dist-packages (from langgraph) (2.0.25)\n",
            "Requirement already satisfied: langgraph-prebuilt>=0.1.8 in /usr/local/lib/python3.11/dist-packages (from langgraph) (0.1.8)\n",
            "Requirement already satisfied: langgraph-sdk>=0.1.42 in /usr/local/lib/python3.11/dist-packages (from langgraph) (0.1.66)\n",
            "Requirement already satisfied: pydantic>=2.7.4 in /usr/local/lib/python3.11/dist-packages (from langgraph) (2.11.4)\n",
            "Requirement already satisfied: xxhash<4.0.0,>=3.5.0 in /usr/local/lib/python3.11/dist-packages (from langgraph) (3.5.0)\n",
            "Requirement already satisfied: httpx<1,>=0.23.0 in /usr/local/lib/python3.11/dist-packages (from langsmith) (0.28.1)\n",
            "Requirement already satisfied: orjson<4.0.0,>=3.9.14 in /usr/local/lib/python3.11/dist-packages (from langsmith) (3.10.18)\n",
            "Requirement already satisfied: packaging>=23.2 in /usr/local/lib/python3.11/dist-packages (from langsmith) (24.2)\n",
            "Requirement already satisfied: requests<3,>=2 in /usr/local/lib/python3.11/dist-packages (from langsmith) (2.32.3)\n",
            "Requirement already satisfied: requests-toolbelt<2.0.0,>=1.0.0 in /usr/local/lib/python3.11/dist-packages (from langsmith) (1.0.0)\n",
            "Requirement already satisfied: zstandard<0.24.0,>=0.23.0 in /usr/local/lib/python3.11/dist-packages (from langsmith) (0.23.0)\n",
            "Collecting groq<1,>=0.4.1 (from langchain-groq)\n",
            "  Downloading groq-0.24.0-py3-none-any.whl.metadata (15 kB)\n",
            "Requirement already satisfied: anyio<5,>=3.5.0 in /usr/local/lib/python3.11/dist-packages (from groq<1,>=0.4.1->langchain-groq) (4.9.0)\n",
            "Requirement already satisfied: distro<2,>=1.7.0 in /usr/local/lib/python3.11/dist-packages (from groq<1,>=0.4.1->langchain-groq) (1.9.0)\n",
            "Requirement already satisfied: sniffio in /usr/local/lib/python3.11/dist-packages (from groq<1,>=0.4.1->langchain-groq) (1.3.1)\n",
            "Requirement already satisfied: typing-extensions<5,>=4.10 in /usr/local/lib/python3.11/dist-packages (from groq<1,>=0.4.1->langchain-groq) (4.13.2)\n",
            "Requirement already satisfied: certifi in /usr/local/lib/python3.11/dist-packages (from httpx<1,>=0.23.0->langsmith) (2025.4.26)\n",
            "Requirement already satisfied: httpcore==1.* in /usr/local/lib/python3.11/dist-packages (from httpx<1,>=0.23.0->langsmith) (1.0.9)\n",
            "Requirement already satisfied: idna in /usr/local/lib/python3.11/dist-packages (from httpx<1,>=0.23.0->langsmith) (3.10)\n",
            "Requirement already satisfied: h11>=0.16 in /usr/local/lib/python3.11/dist-packages (from httpcore==1.*->httpx<1,>=0.23.0->langsmith) (0.16.0)\n",
            "Requirement already satisfied: tenacity!=8.4.0,<10.0.0,>=8.1.0 in /usr/local/lib/python3.11/dist-packages (from langchain-core>=0.1->langgraph) (9.1.2)\n",
            "Requirement already satisfied: jsonpatch<2.0,>=1.33 in /usr/local/lib/python3.11/dist-packages (from langchain-core>=0.1->langgraph) (1.33)\n",
            "Requirement already satisfied: PyYAML>=5.3 in /usr/local/lib/python3.11/dist-packages (from langchain-core>=0.1->langgraph) (6.0.2)\n",
            "Requirement already satisfied: ormsgpack<2.0.0,>=1.8.0 in /usr/local/lib/python3.11/dist-packages (from langgraph-checkpoint<3.0.0,>=2.0.10->langgraph) (1.9.1)\n",
            "Requirement already satisfied: annotated-types>=0.6.0 in /usr/local/lib/python3.11/dist-packages (from pydantic>=2.7.4->langgraph) (0.7.0)\n",
            "Requirement already satisfied: pydantic-core==2.33.2 in /usr/local/lib/python3.11/dist-packages (from pydantic>=2.7.4->langgraph) (2.33.2)\n",
            "Requirement already satisfied: typing-inspection>=0.4.0 in /usr/local/lib/python3.11/dist-packages (from pydantic>=2.7.4->langgraph) (0.4.0)\n",
            "Requirement already satisfied: charset-normalizer<4,>=2 in /usr/local/lib/python3.11/dist-packages (from requests<3,>=2->langsmith) (3.4.1)\n",
            "Requirement already satisfied: urllib3<3,>=1.21.1 in /usr/local/lib/python3.11/dist-packages (from requests<3,>=2->langsmith) (2.4.0)\n",
            "Requirement already satisfied: jsonpointer>=1.9 in /usr/local/lib/python3.11/dist-packages (from jsonpatch<2.0,>=1.33->langchain-core>=0.1->langgraph) (3.0.0)\n",
            "Downloading langchain_groq-0.3.2-py3-none-any.whl (15 kB)\n",
            "Downloading groq-0.24.0-py3-none-any.whl (127 kB)\n",
            "\u001b[2K   \u001b[90m━━━━━━━━━━━━━━━━━━━━━━━━━━━━━━━━━━━━━━━━\u001b[0m \u001b[32m127.5/127.5 kB\u001b[0m \u001b[31m3.5 MB/s\u001b[0m eta \u001b[36m0:00:00\u001b[0m\n",
            "\u001b[?25hInstalling collected packages: groq, langchain-groq\n",
            "Successfully installed groq-0.24.0 langchain-groq-0.3.2\n"
          ]
        }
      ],
      "source": [
        "!pip install -U langgraph langsmith langchain-groq"
      ]
    },
    {
      "cell_type": "code",
      "source": [
        "from typing import Annotated\n",
        "\n",
        "from typing_extensions import TypedDict\n",
        "\n",
        "from langgraph.graph import StateGraph, START\n",
        "from langgraph.graph.message import add_messages\n",
        "\n",
        "\n",
        "class State(TypedDict):\n",
        "    # Messages have the type \"list\". The `add_messages` function\n",
        "    # in the annotation defines how this state key should be updated\n",
        "    # (in this case, it appends messages to the list, rather than overwriting them)\n",
        "    messages: Annotated[list, add_messages]\n",
        "\n",
        "\n",
        "graph_builder = StateGraph(State)"
      ],
      "metadata": {
        "id": "u7jbTTqt1ow7"
      },
      "execution_count": 11,
      "outputs": []
    },
    {
      "cell_type": "code",
      "source": [
        "from google.colab import userdata\n",
        "import os\n",
        "os.environ[\"GROQ_API_KEY\"] = userdata.get('GROQ_API_KEY')"
      ],
      "metadata": {
        "id": "GGrcOjQd15X2"
      },
      "execution_count": 12,
      "outputs": []
    },
    {
      "cell_type": "code",
      "source": [
        "from langchain_groq import ChatGroq\n",
        "llm = ChatGroq(model=\"gemma2-9b-it\")"
      ],
      "metadata": {
        "id": "ZaDHxGjY1vPq"
      },
      "execution_count": 16,
      "outputs": []
    },
    {
      "cell_type": "code",
      "source": [
        "def chatbot(state: State):\n",
        "    return {\"messages\": [llm.invoke(state[\"messages\"])]}\n",
        "\n",
        "\n",
        "# The first argument is the unique node name\n",
        "# The second argument is the function or object that will be called whenever\n",
        "# the node is used.\n",
        "graph_builder.add_node(\"chatbot\", chatbot)"
      ],
      "metadata": {
        "colab": {
          "base_uri": "https://localhost:8080/"
        },
        "id": "WWzinfv819jO",
        "outputId": "fa4033a4-cd72-4b2c-8745-9b13d89c0bfc"
      },
      "execution_count": 17,
      "outputs": [
        {
          "output_type": "execute_result",
          "data": {
            "text/plain": [
              "<langgraph.graph.state.StateGraph at 0x7aada2cca890>"
            ]
          },
          "metadata": {},
          "execution_count": 17
        }
      ]
    },
    {
      "cell_type": "code",
      "source": [
        "graph_builder.add_edge(START, \"chatbot\")"
      ],
      "metadata": {
        "colab": {
          "base_uri": "https://localhost:8080/"
        },
        "id": "typoKCs-3Q6v",
        "outputId": "b8e91244-04df-4fc7-dbce-a7dbd719e954"
      },
      "execution_count": 18,
      "outputs": [
        {
          "output_type": "execute_result",
          "data": {
            "text/plain": [
              "<langgraph.graph.state.StateGraph at 0x7aada2cca890>"
            ]
          },
          "metadata": {},
          "execution_count": 18
        }
      ]
    },
    {
      "cell_type": "code",
      "source": [
        "graph = graph_builder.compile()"
      ],
      "metadata": {
        "id": "R-ZHuxHZ3Swn"
      },
      "execution_count": 19,
      "outputs": []
    },
    {
      "cell_type": "code",
      "source": [
        "from IPython.display import Image, display\n",
        "\n",
        "try:\n",
        "    display(Image(graph.get_graph().draw_mermaid_png()))\n",
        "except Exception:\n",
        "    # This requires some extra dependencies and is optional\n",
        "    pass"
      ],
      "metadata": {
        "colab": {
          "base_uri": "https://localhost:8080/",
          "height": 251
        },
        "id": "oiaSXr_L3U5-",
        "outputId": "4e9c1ac2-46a2-4718-8a29-1fbdf2f2b6df"
      },
      "execution_count": 20,
      "outputs": [
        {
          "output_type": "display_data",
          "data": {
            "image/png": "[encoded data removed]",
            "text/plain": [
              "<IPython.core.display.Image object>"
            ]
          },
          "metadata": {}
        }
      ]
    },
    {
      "cell_type": "code",
      "source": [
        "def stream_graph_updates(user_input: str):\n",
        "    for event in graph.stream({\"messages\": [{\"role\": \"user\", \"content\": user_input}]}):\n",
        "        for value in event.values():\n",
        "            print(\"Assistant:\", value[\"messages\"][-1].content)\n",
        "\n",
        "\n",
        "while True:\n",
        "    try:\n",
        "        user_input = input(\"User: \")\n",
        "        if user_input.lower() in [\"quit\", \"exit\", \"q\"]:\n",
        "            print(\"Goodbye!\")\n",
        "            break\n",
        "        stream_graph_updates(user_input)\n",
        "    except:\n",
        "        # fallback if input() is not available\n",
        "        user_input = \"What do you know about LangGraph?\"\n",
        "        print(\"User: \" + user_input)\n",
        "        stream_graph_updates(user_input)\n",
        "        break"
      ],
      "metadata": {
        "colab": {
          "base_uri": "https://localhost:8080/"
        },
        "id": "0uNrkn043WV-",
        "outputId": "b2642d22-4fc6-4bf4-a277-5342ae7d2011"
      },
      "execution_count": 21,
      "outputs": [
        {
          "output_type": "stream",
          "name": "stdout",
          "text": [
            "User: Hello\n",
            "Assistant: Hello! 👋 \n",
            "\n",
            "How can I help you today? 😊\n",
            "\n",
            "User: who is the president of france\n",
            "Assistant: The president of France is **Emmanuel Macron**. \n",
            "\n",
            "User: who is the prime minister of india\n",
            "Assistant: The Prime Minister of India is **Narendra Modi**. \n",
            "\n",
            "User: which is the oldest city in the world\n",
            "Assistant: There's no single definitive answer to the question of \"oldest city in the world.\" \n",
            "\n",
            "It depends on how you define \"city.\"  \n",
            "\n",
            "* **Continuous habitation:**\n",
            "\n",
            "If you consider a city as a place with continuous habitation from ancient times, then some contenders include:\n",
            "\n",
            "* **Jericho, Palestine:** Archaeological evidence suggests Jericho has been inhabited for over 11,000 years, making it a strong candidate. \n",
            "* **Damascus, Syria:**  Also boasts a long history, with evidence of settlement dating back over 10,000 years.\n",
            "\n",
            "* **Urban development:**\n",
            "\n",
            "If you define a city by its urban development and infrastructure, then other locations might be considered:\n",
            "\n",
            "* **Çatalhöyük, Turkey:**  Dating back around 7,500 years, this site featured dense housing, public spaces, and sophisticated social structures.\n",
            "\n",
            "It's important to remember that our understanding of ancient cities is constantly evolving as new discoveries are made. \n",
            "\n",
            "Ultimately, the \"oldest city\" title is a matter of debate and interpretation. \n",
            "\n",
            "\n",
            "User: name some rivers in india\n",
            "Assistant: Here are some rivers in India, categorized by major river systems:\n",
            "\n",
            "**Indo-Gangetic River System:**\n",
            "\n",
            "* **Ganges:** The most sacred river in Hinduism, flowing through northern India.\n",
            "* **Brahmaputra:**  Originating in Tibet, it flows through Assam and Bangladesh.\n",
            "* **Yamuna:** A major tributary of the Ganges.\n",
            "* **Godavari:** The largest river in peninsular India.\n",
            "* **Krishna:**  Another major river in peninsular India, known for its delta.\n",
            "\n",
            "**Peninsular Rivers:**\n",
            "\n",
            "* **Cauvery:** Flows through Karnataka and Tamil Nadu, important for agriculture.\n",
            "* **Narmada:**  Known for its scenic beauty and the Narmada Dam project.\n",
            "* **Tapti:** Flows through Maharashtra and Gujarat.\n",
            "* **Mahanadi:**  Important river in eastern India, passing through Chhattisgarh and Odisha.\n",
            "* **Sharavathi:** A tributary of the Arabian Sea, known for its hydroelectric projects.\n",
            "\n",
            "**Other Notable Rivers:**\n",
            "\n",
            "* **Indus:**  Originates in Tibet and flows through Pakistan, but has a small section in India.\n",
            "* **Chenab:**  A tributary of the Indus, flowing through Jammu and Kashmir.\n",
            "* **Ravi:**  Another tributary of the Indus, also flowing through Jammu and Kashmir.\n",
            "* **Beas:**  A tributary of the Sutlej, flowing through Punjab.\n",
            "\n",
            "This is just a small selection of the many rivers in India.  \n",
            "\n",
            "\n",
            "Let me know if you'd like to know more about a specific river!\n",
            "\n",
            "User: What do you know about LangGraph?\n",
            "Assistant: LangGraph is an open-source project focusing on **language modeling** and **text generation**. It stands out for its unique approach to handling **linguistic structure** in language models.\n",
            "\n",
            "Here's what I know about LangGraph:\n",
            "\n",
            "* **Graph-based representation:** LangGraph utilizes a graph-based representation of language, where words are nodes and their relationships (e.g., grammatical dependencies, semantic similarity) are represented as edges. This allows for a more nuanced understanding of sentence structure and meaning compared to traditional sequential models.\n",
            "* **Transformer-based architecture:** LangGraph leverages the power of transformer architectures, particularly the **Graph Transformer** proposed by the project. This allows for efficient processing of long-range dependencies within the graph representation.\n",
            "* **Pre-training and fine-tuning:** LangGraph offers pre-trained language models on various datasets, enabling users to leverage existing knowledge and fine-tune them for specific tasks like text summarization, question answering, or machine translation.\n",
            "* **Open-source and community-driven:** Being open-source, LangGraph encourages collaboration and contributions from the research community, fostering innovation and advancements in the field.\n",
            "\n",
            "**Benefits of LangGraph:**\n",
            "\n",
            "* **Improved linguistic understanding:** The graph-based representation captures complex linguistic relationships, leading to a deeper understanding of text.\n",
            "* **Enhanced performance:** Transformer-based architecture enables efficient processing and often results in improved performance on various NLP tasks.\n",
            "* **Flexibility and customization:** Pre-trained models and open-source nature allow users to adapt LangGraph to their specific needs and datasets.\n",
            "\n",
            "**Limitations:**\n",
            "\n",
            "* **Computational complexity:** Graph-based models can be more computationally expensive than traditional sequential models.\n",
            "* **Data requirements:**\n",
            "\n",
            "Effective training of LangGraph models requires large and diverse datasets.\n",
            "\n",
            "\n",
            "Overall, LangGraph is a promising project that pushes the boundaries of language modeling by incorporating linguistic structure into its architecture. Its open-source nature and community support make it a valuable resource for researchers and developers working on natural language processing tasks.\n",
            "\n"
          ]
        }
      ]
    },
    {
      "cell_type": "code",
      "source": [],
      "metadata": {
        "id": "TSTLBob53YGl"
      },
      "execution_count": 21,
      "outputs": []
    }
  ]
}